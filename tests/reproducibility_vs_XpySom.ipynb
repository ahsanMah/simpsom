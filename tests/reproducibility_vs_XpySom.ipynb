{
 "cells": [
  {
   "cell_type": "code",
   "execution_count": 1,
   "metadata": {},
   "outputs": [
    {
     "data": {
      "text/html": [
       "<style>.container {width: 90% !important; }</style>"
      ],
      "text/plain": [
       "<IPython.core.display.HTML object>"
      ]
     },
     "metadata": {},
     "output_type": "display_data"
    }
   ],
   "source": [
    "import warnings\n",
    "warnings.filterwarnings('ignore')\n",
    "\n",
    "from IPython.core.display import display, HTML\n",
    "display(HTML('<style>.container {width: 90% !important; }</style>'))"
   ]
  },
  {
   "cell_type": "code",
   "execution_count": 6,
   "metadata": {},
   "outputs": [],
   "source": [
    "import sys\n",
    "sys.path.append(\"/simpsom/\")\n",
    "import simpsom as sps \n",
    "# import simpsom as sps\n",
    "import random\n",
    "import numpy as np\n",
    "random.seed(42)\n",
    "np.random.seed(42)"
   ]
  },
  {
   "cell_type": "code",
   "execution_count": 46,
   "metadata": {},
   "outputs": [
    {
     "name": "stdout",
     "output_type": "stream",
     "text": [
      "[[0.8, 0.55, 0.22, 0.03], [0.82, 0.5, 0.23, 0.03], [0.8, 0.54, 0.22, 0.03], [0.8, 0.53, 0.26, 0.03], [0.79, 0.56, 0.22, 0.03], [0.75, 0.6, 0.25, 0.03], [0.77, 0.59, 0.22, 0.03]]\n"
     ]
    }
   ],
   "source": [
    "# data = np.random.rand(10,2)\n",
    "data = [[ 0.80,  0.55,  0.22,  0.03],\n",
    "        [ 0.82,  0.50,  0.23,  0.03],\n",
    "        [ 0.80,  0.54,  0.22,  0.03],\n",
    "        [ 0.80,  0.53,  0.26,  0.03],\n",
    "        [ 0.79,  0.56,  0.22,  0.03],\n",
    "        [ 0.75,  0.60,  0.25,  0.03],\n",
    "        [ 0.77,  0.59,  0.22,  0.03]]  \n",
    "print(data)"
   ]
  },
  {
   "cell_type": "code",
   "execution_count": 47,
   "metadata": {},
   "outputs": [
    {
     "name": "stderr",
     "output_type": "stream",
     "text": [
      "2023-04-06 15:11:15.823 | INFO     | simpsom.network:__init__:115 - Hexagonal topology.\n",
      "2023-04-06 15:11:15.824 | WARNING  | simpsom.network:_set_weights:179 - Please be sure that the data have been standardized before using PCA.\n",
      "2023-04-06 15:11:15.825 | INFO     | simpsom.network:_set_weights:181 - The weights will be initialized with PCA.\n",
      "2023-04-06 15:11:15.827 | INFO     | simpsom.network:train:375 - The map will be trained with the online algorithm.\n",
      "2023-04-06 15:11:15.827 | WARNING  | simpsom.network:_randomize_dataset:277 - Epochs for online training are less than the input datapoints.\n"
     ]
    }
   ],
   "source": [
    "net = sps.SOMNet(3, 3, data, topology='hexagonal', \n",
    "                init='pca', metric='euclidean',\n",
    "                neighborhood_fun='gaussian', PBC=False,\n",
    "                random_seed=32, GPU=False, CUML=False,\n",
    "                output_path=\"./\")\n",
    "\n",
    "net.train(train_algo='online', start_learning_rate=0.01, epochs=5)"
   ]
  },
  {
   "cell_type": "code",
   "execution_count": 48,
   "metadata": {},
   "outputs": [
    {
     "name": "stdout",
     "output_type": "stream",
     "text": [
      "[-6.1126620e-01 -7.1314120e-01 -1.5406580e-01  1.4586493e-04]\n",
      "[-4.3798697e-01 -5.7064813e-01 -4.9556274e-02  3.3051646e-04]\n",
      "[-2.7282202e-01 -6.4472753e-01 -4.9174413e-02  1.4586493e-04]\n",
      "[-3.3438033e-01 -6.7998415e-01 -1.4952579e-01  4.3702321e-04]\n",
      "[-2.2426337e-01 -7.8332961e-01 -1.4751785e-01  7.7221240e-04]\n",
      "[-6.6734439e-01 -7.8555048e-01 -2.2821736e-01  4.3702321e-04]\n",
      "[-0.04201955 -0.49922147 -0.05900617  0.00077221]\n",
      "[ 0.34853822 -0.5458952  -0.02848397  0.00103195]\n",
      "[ 0.3367322  -0.70598775 -0.03299545  0.00077221]\n"
     ]
    }
   ],
   "source": [
    "for node in net.nodes_list:\n",
    "    print(node.weights)"
   ]
  },
  {
   "cell_type": "raw",
   "metadata": {},
   "source": [
    "GPU output:\n",
    "\n",
    "[-6.1126620e-01 -7.1314120e-01 -1.5406580e-01  1.4586492e-04]\n",
    "[-4.3798697e-01 -5.7064813e-01 -4.9556274e-02  3.3051646e-04]\n",
    "[-2.7282202e-01 -6.4472753e-01 -4.9174413e-02  1.4586492e-04]\n",
    "[-3.3438033e-01 -6.7998415e-01 -1.4952579e-01  4.3702318e-04]\n",
    "[-2.2426337e-01 -7.8332961e-01 -1.4751785e-01  7.7221234e-04]\n",
    "[-6.6734439e-01 -7.8555048e-01 -2.2821736e-01  4.3702318e-04]\n",
    "[-0.04201955 -0.49922147 -0.05900617  0.00077221]\n",
    "[ 0.34853822 -0.5458952  -0.02848397  0.00103195]\n",
    "[ 0.3367322  -0.70598775 -0.03299545  0.00077221]"
   ]
  },
  {
   "cell_type": "code",
   "execution_count": 54,
   "metadata": {},
   "outputs": [
    {
     "name": "stderr",
     "output_type": "stream",
     "text": [
      "2023-04-06 15:39:44.566 | INFO     | simpsom.network:__init__:115 - Hexagonal topology.\n",
      "2023-04-06 15:39:44.567 | INFO     | simpsom.network:_set_weights:192 - The weights will be initialized randomly.\n",
      "2023-04-06 15:39:44.570 | INFO     | simpsom.network:train:375 - The map will be trained with the batch algorithm.\n"
     ]
    }
   ],
   "source": [
    "net = sps.SOMNet(3, 3, data, topology='hexagonal', \n",
    "                init='random', metric='euclidean',\n",
    "                neighborhood_fun='gaussian', PBC=False,\n",
    "                random_seed=32, GPU=False, CUML=False,\n",
    "                output_path=\"./\")\n",
    "\n",
    "net.train(train_algo='batch', start_learning_rate=0.01, epochs=5, batch_size=1)"
   ]
  },
  {
   "cell_type": "code",
   "execution_count": 55,
   "metadata": {},
   "outputs": [
    {
     "name": "stdout",
     "output_type": "stream",
     "text": [
      "[0.793797   0.54255027 0.24599402 0.03      ]\n",
      "[0.80092543 0.53488255 0.23439065 0.02999999]\n",
      "[0.8056613  0.52978873 0.226682   0.03      ]\n",
      "[0.78007686 0.5652668  0.23830524 0.03      ]\n",
      "[0.7913148  0.55182415 0.22992602 0.03      ]\n",
      "[0.79917854 0.5424176  0.22406264 0.03      ]\n",
      "[0.7692252  0.58235025 0.23427145 0.03      ]\n",
      "[0.78151995 0.5672675  0.22837429 0.03      ]\n",
      "[0.7927453  0.5534966  0.22299007 0.03      ]\n"
     ]
    }
   ],
   "source": [
    "for node in net.nodes_list:\n",
    "    print(node.weights)"
   ]
  },
  {
   "cell_type": "raw",
   "metadata": {},
   "source": [
    "GPU output:\n",
    "\n",
    "[0.793797   0.54255027 0.24599402 0.03      ]\n",
    "[0.80092543 0.53488255 0.23439065 0.02999999]\n",
    "[0.8056613  0.52978873 0.226682   0.03      ]\n",
    "[0.78007686 0.5652668  0.23830524 0.03      ]\n",
    "[0.7913148  0.55182415 0.22992602 0.03      ]\n",
    "[0.79917854 0.5424176  0.22406264 0.03      ]\n",
    "[0.7692252  0.58235025 0.23427145 0.03      ]\n",
    "[0.78151995 0.5672675  0.22837429 0.03      ]\n",
    "[0.7927453  0.5534966  0.22299007 0.03      ]"
   ]
  },
  {
   "cell_type": "code",
   "execution_count": null,
   "metadata": {},
   "outputs": [],
   "source": []
  },
  {
   "cell_type": "code",
   "execution_count": null,
   "metadata": {},
   "outputs": [],
   "source": []
  },
  {
   "cell_type": "code",
   "execution_count": 4,
   "metadata": {},
   "outputs": [
    {
     "name": "stdout",
     "output_type": "stream",
     "text": [
      "WARNING: CuPy could not be imported\n",
      "WARNING: CuPy could not be imported\n",
      "WARNING: CuPy could not be imported\n"
     ]
    }
   ],
   "source": [
    "from xpysom import XPySom    "
   ]
  },
  {
   "cell_type": "code",
   "execution_count": 56,
   "metadata": {},
   "outputs": [],
   "source": [
    "som = XPySom(3, 3, 4, sigma=0.3, learning_rate=0.5, random_seed=42) # initialization of 6x6 SOM\n",
    "som.train_batch(data, 5) # trains the SOM with 5 iterations"
   ]
  },
  {
   "cell_type": "code",
   "execution_count": 58,
   "metadata": {},
   "outputs": [
    {
     "data": {
      "text/plain": [
       "array([[[0.7799992 , 0.5750006 , 0.22000095, 0.03      ],\n",
       "        [0.7900001 , 0.5599999 , 0.2200001 , 0.03      ],\n",
       "        [0.79666704, 0.549999  , 0.22000022, 0.03      ]],\n",
       "\n",
       "       [[0.7693206 , 0.59024334, 0.2211894 , 0.03      ],\n",
       "        [0.79189175, 0.5539381 , 0.22818556, 0.03      ],\n",
       "        [0.80037695, 0.5441348 , 0.22022249, 0.03      ]],\n",
       "\n",
       "       [[0.7525488 , 0.59708697, 0.24927172, 0.03      ],\n",
       "        [0.7988696 , 0.5315783 , 0.25837886, 0.03      ],\n",
       "        [0.81789196, 0.5042159 , 0.23035134, 0.03      ]]], dtype=float32)"
      ]
     },
     "execution_count": 58,
     "metadata": {},
     "output_type": "execute_result"
    }
   ],
   "source": [
    "som.get_weights()"
   ]
  },
  {
   "cell_type": "raw",
   "metadata": {},
   "source": [
    "GPU output:\n",
    "    \n",
    "[[[0.8097773  0.51573026 0.2445     0.03      ]\n",
    "  [0.7975243  0.54009724 0.23237847 0.03      ]\n",
    "  [0.79995376 0.54007703 0.22000018 0.03      ]]\n",
    "\n",
    " [[0.7993212  0.5493212  0.22169694 0.03      ]\n",
    "  [0.77128726 0.5881756  0.22011784 0.03      ]\n",
    "  [0.7733339  0.576666   0.2299998  0.03      ]]\n",
    "\n",
    " [[0.7903477  0.559667   0.22000018 0.03      ]\n",
    "  [0.77038765 0.58290243 0.22987081 0.03      ]\n",
    "  [0.75003105 0.59998435 0.24995364 0.03      ]]]"
   ]
  },
  {
   "cell_type": "code",
   "execution_count": null,
   "metadata": {},
   "outputs": [],
   "source": []
  }
 ],
 "metadata": {
  "kernelspec": {
   "display_name": "Python 3 (ipykernel)",
   "language": "python",
   "name": "python3"
  },
  "language_info": {
   "codemirror_mode": {
    "name": "ipython",
    "version": 3
   },
   "file_extension": ".py",
   "mimetype": "text/x-python",
   "name": "python",
   "nbconvert_exporter": "python",
   "pygments_lexer": "ipython3",
   "version": "3.10.9"
  }
 },
 "nbformat": 4,
 "nbformat_minor": 4
}
